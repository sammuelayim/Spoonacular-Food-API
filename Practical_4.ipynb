{
 "cells": [
  {
   "cell_type": "markdown",
   "metadata": {},
   "source": [
    "Objective:\n",
    "Practice working with APIs by selecting one, customizing its parameters, extracting data, and storing the data in a structured format.\n",
    "\n",
    "Instructions:\n",
    "\n",
    "Select an API:\n",
    "Visit API List.fun or any other API directory. Choose an API that interests you.\n",
    "Example categories: Weather, Movies, Sports, Finance, or Fun APIs like jokes or quotes.\n",
    "API LINK: [CLICK ON APIs LINK](https://apilist.fun/)\n",
    "\n",
    "\n",
    "Explore the API Documentation:\n",
    "\n",
    "Review the API documentation to understand its endpoints and available parameters.\n",
    "Familiarize yourself with how to customize parameters (e.g., query strings, filters, or date ranges).\n",
    "Extract Data:\n",
    "\n",
    "Use Python to send a request to the API using the requests library.\n",
    "Customize the API parameters to fetch data you find interesting or relevant.\n",
    "Process the Data:\n",
    "\n",
    "Convert the retrieved JSON data into a DataFrame using the pandas library.\n",
    "Perform basic data cleaning, such as removing null values or renaming columns.\n",
    "Save the Data:\n",
    "\n",
    "Convert the cleaned data into a CSV or Parquet file format.\n",
    "Save the file to your local machine.\n",
    "Submit Your Work:\n",
    "\n",
    "Push your project to a GitHub repository. Ensure the repository includes:\n",
    "A README.md file explaining the API you selected and the steps you followed.\n",
    "Your Python code in a well-commented script.\n",
    "The output file (CSV or Parquet) with the extracted data.\n",
    "Deliverables:\n",
    "\n",
    "Link to your GitHub repository containing:\n",
    "Python script.\n",
    "CSV or Parquet file.\n",
    "README.md file with your project description.\n",
    "Deadline:\n",
    "## FRIDAY 22 NOV, 2024\n",
    "\n",
    "Tips:\n",
    "\n",
    "Make sure the API you choose is free or provides a free tier for your usage.\n",
    "Test your API key (if required) and ensure your parameters are correct.\n",
    "Feel free to ask for help if you encounter any issues with API requests or data processing.\n",
    "Good luck! 🎉\n",
    "\n",
    "\n",
    "## NOTE:\n",
    "PLEASE DO NOT PUSH TO THIS CODE, BUT YOU CAN ALWAYS PULL FROM IT TO GET THE LATEST VERSION\n",
    "\n",
    "Do your assignmet, create your own repo and submit it to me using the from link"
   ]
  },
  {
   "cell_type": "code",
   "execution_count": null,
   "metadata": {},
   "outputs": [],
   "source": [
    "# write your code here "
   ]
  }
 ],
 "metadata": {
  "language_info": {
   "name": "python"
  }
 },
 "nbformat": 4,
 "nbformat_minor": 2
}
